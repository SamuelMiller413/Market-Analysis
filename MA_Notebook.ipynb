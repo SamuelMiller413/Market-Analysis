{
  "nbformat": 4,
  "nbformat_minor": 0,
  "metadata": {
    "colab": {
      "name": "MA_Notebook.ipynb",
      "provenance": [],
      "authorship_tag": "ABX9TyP/XRb+Mj6YUhprRNp6fnxp",
      "include_colab_link": true
    },
    "kernelspec": {
      "name": "python3",
      "display_name": "Python 3"
    },
    "language_info": {
      "name": "python"
    }
  },
  "cells": [
    {
      "cell_type": "markdown",
      "metadata": {
        "id": "view-in-github",
        "colab_type": "text"
      },
      "source": [
        "<a href=\"https://colab.research.google.com/github/SamuelMiller413/Market-Analysis/blob/main/MA_Notebook.ipynb\" target=\"_parent\"><img src=\"https://colab.research.google.com/assets/colab-badge.svg\" alt=\"Open In Colab\"/></a>"
      ]
    },
    {
      "cell_type": "code",
      "execution_count": null,
      "metadata": {
        "id": "Vsfewtbj9eH6"
      },
      "outputs": [],
      "source": [
        "# libraries\n",
        "import numpy as np\n",
        "import pandas as pd\n",
        "import seaborn as sns\n",
        "import matplotlib as plt\n",
        "from sklearn.preprocessing import StandardScaler\n",
        "\n",
        "# clone repository into Colab\n",
        "!git clone https://github.com/SamuelMiller413/Market-Analysis\n",
        "\n",
        "# I/O\n",
        "    # from:\n",
        "path_from = \"/content/Market-Analysis/data/MA_Data_Binary.csv\"\n",
        "\n",
        "# read CSV\n",
        "MA_ = pd.read_csv(filepath_or_buffer=path_from)\n",
        "\n",
        "# display head\n",
        "MA_.head()"
      ]
    },
    {
      "cell_type": "code",
      "source": [
        "columns = MA_.columns"
      ],
      "metadata": {
        "id": "X5Trga9Z-j-F"
      },
      "execution_count": null,
      "outputs": []
    },
    {
      "cell_type": "code",
      "source": [
        "MA_ = MA_.drop(columns[0], axis =1)"
      ],
      "metadata": {
        "id": "VzqoGQk5_o9d"
      },
      "execution_count": 17,
      "outputs": []
    },
    {
      "cell_type": "code",
      "source": [
        "columns = MA_.columns"
      ],
      "metadata": {
        "id": "2Py7Ws00--1q"
      },
      "execution_count": 23,
      "outputs": []
    },
    {
      "cell_type": "code",
      "source": [
        "columns"
      ],
      "metadata": {
        "colab": {
          "base_uri": "https://localhost:8080/"
        },
        "id": "ig8ZYaFH_mcs",
        "outputId": "d6343741-216b-4b1c-8004-30b2023a3573"
      },
      "execution_count": 24,
      "outputs": [
        {
          "output_type": "execute_result",
          "data": {
            "text/plain": [
              "Index(['Term', 'Spotify_SFA', 'Spotify_Creator Promotion', 'Scribd', 'QDT',\n",
              "       'Zignal', 'WGU', 'Afterpay', 'Lumen', 'Kin + Carta', 'HashiCorp',\n",
              "       'Talentify', 'Trellance', 'Upgrade', 'Sprouts', 'Pngme', 'Posh',\n",
              "       'SigFig', 'GGWP', 'NExTNet', 'Dashworks', 'Alectio', 'TOTALS'],\n",
              "      dtype='object')"
            ]
          },
          "metadata": {},
          "execution_count": 24
        }
      ]
    },
    {
      "cell_type": "code",
      "source": [
        ""
      ],
      "metadata": {
        "id": "UUZfLIcA_oJK"
      },
      "execution_count": null,
      "outputs": []
    }
  ]
}